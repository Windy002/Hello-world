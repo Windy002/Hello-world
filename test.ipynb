{
 "cells": [
  {
   "cell_type": "code",
   "execution_count": 2,
   "metadata": {},
   "outputs": [],
   "source": [
    "import torch\n",
    "from torch import nn, optim\n",
    "from torch.nn import Conv2d, Linear, Sequential, Flatten\n",
    "from torch.utils.data import Dataset, DataLoader\n",
    "from tqdm import tqdm\n",
    "import random\n",
    "from glob import glob\n",
    "import numpy as np\n",
    "from functools import partial\n",
    "from python_speech_features import mfcc, delta # 导入音频特征提取工具包\n",
    "import scipy.io.wavfile as wav\n",
    "\n",
    "\n"
   ]
  },
  {
   "cell_type": "code",
   "execution_count": 3,
   "metadata": {},
   "outputs": [
    {
     "name": "stdout",
     "output_type": "stream",
     "text": [
      "总数据数量：  3000\n"
     ]
    }
   ],
   "source": [
    "#数据预处理\n",
    "data_path = 'FSDD'\n",
    "waves = glob(\"{}/*.wav\".format(data_path),recursive=True)\n",
    "print(\"总数据数量： \",len(waves))\n",
    "\n"
   ]
  },
  {
   "cell_type": "code",
   "execution_count": 4,
   "metadata": {},
   "outputs": [
    {
     "name": "stdout",
     "output_type": "stream",
     "text": [
      "训练集数目:\t 2700 \n",
      "验证集数目:\t 150 \n",
      "测试集数目:\t 150\n"
     ]
    }
   ],
   "source": [
    "\n",
    "    #打乱列表\n",
    "random.shuffle(waves)\n",
    "    #划分数据集 train 0.9 test/val 0.05\n",
    "train_waves = waves[:int(len(waves)*0.9)]\n",
    "val_waves = waves[int(len(waves)*0.9):int(len(waves)*0.95)]\n",
    "test_waves = waves[int(len(waves)*0.95):]\n",
    "print(\"训练集数目:\\t\",len(train_waves),\"\\n验证集数目:\\t\",len(val_waves),\"\\n测试集数目:\\t\",len(test_waves))"
   ]
  },
  {
   "cell_type": "code",
   "execution_count": 5,
   "metadata": {},
   "outputs": [],
   "source": [
    "\n",
    "#MFCC特征提取\n",
    "def get_mfcc(data, fs):\n",
    "    # MFCC特征提取\n",
    "    wav_feature = mfcc(data, fs)\n",
    "\n",
    "    # 特征一阶差分\n",
    "    d_mfcc_feat = delta(wav_feature, 1)\n",
    "    # 特征二阶差分\n",
    "    d_mfcc_feat2 = delta(wav_feature, 2)\n",
    "    # 特征拼接\n",
    "    feature = np.concatenate(\n",
    "        [wav_feature.reshape(1, -1, 13), d_mfcc_feat.reshape(1, -1, 13), d_mfcc_feat2.reshape(1, -1, 13)], 0)\n",
    "\n",
    "    # 对数据进行截取或者填充\n",
    "    if feature.shape[1] > 64:\n",
    "        feature = feature[:, :64, :]\n",
    "    else:\n",
    "        feature = np.pad(feature, ((0, 0), (0, 64 - feature.shape[1]), (0, 0)), 'constant')\n",
    "    # 通道转置(HWC->CHW)\n",
    "    feature = feature.transpose((2, 0, 1))\n",
    "\n",
    "    return feature"
   ]
  },
  {
   "cell_type": "code",
   "execution_count": 6,
   "metadata": {},
   "outputs": [
    {
     "name": "stdout",
     "output_type": "stream",
     "text": [
      "特征形状(CHW): (13, 3, 64) <class 'numpy.ndarray'>\n"
     ]
    }
   ],
   "source": [
    "\n",
    "# 读取音频样例\n",
    "fs, signal = wav.read('FSDD/0_george_0.wav')\n",
    "# 特征提取\n",
    "feature = get_mfcc(signal, fs)\n",
    "print('特征形状(CHW):', feature.shape, type(feature))"
   ]
  },
  {
   "cell_type": "code",
   "execution_count": 7,
   "metadata": {},
   "outputs": [
    {
     "name": "stderr",
     "output_type": "stream",
     "text": [
      "100%|██████████| 2700/2700 [00:05<00:00, 497.83it/s]\n",
      "100%|██████████| 150/150 [00:00<00:00, 508.48it/s]\n",
      "100%|██████████| 150/150 [00:00<00:00, 541.52it/s]\n"
     ]
    }
   ],
   "source": [
    "#标签提取\n",
    "def preproess(waves):\n",
    "    datalist=[]\n",
    "    lablelist=[]\n",
    "    for w in tqdm(waves):\n",
    "        lablelist.append([int(w[5])])\n",
    "        fs, signal = wav.read(w)\n",
    "        f = get_mfcc(signal, fs)\n",
    "        datalist.append(f)\n",
    "    return np.array(datalist),np.array(lablelist)\n",
    "\n",
    "train_data,train_lable=preproess(train_waves)\n",
    "val_data,val_lable=preproess(val_waves)\n",
    "test_data,test_lable=preproess(test_waves)"
   ]
  },
  {
   "cell_type": "code",
   "execution_count": 9,
   "metadata": {},
   "outputs": [
    {
     "name": "stdout",
     "output_type": "stream",
     "text": [
      "[[5]\n",
      " [4]\n",
      " [8]\n",
      " ...\n",
      " [3]\n",
      " [0]\n",
      " [7]]\n",
      "(2700, 1)\n"
     ]
    }
   ],
   "source": [
    "for data in train_lable:\n",
    "    print(train_lable) \n",
    "    print(train_lable.shape)\n",
    "    break"
   ]
  },
  {
   "cell_type": "code",
   "execution_count": 11,
   "metadata": {},
   "outputs": [],
   "source": [
    "#组装数据集\n",
    "class MyDataset(torch.utils.data.Dataset):\n",
    "    def __init__(self,audio,text):\n",
    "        super(MyDataset, self).__init__()\n",
    "        self.text = text\n",
    "        self.audio = audio\n",
    "\n",
    "    def __getitem__(self, index):\n",
    "        return self.audio[index],self.text[index]\n",
    "\n",
    "    def __len__(self):\n",
    "        return self.audio.shape[0]"
   ]
  },
  {
   "cell_type": "code",
   "execution_count": 12,
   "metadata": {},
   "outputs": [],
   "source": [
    "\n",
    "train_dataset = MyDataset(train_data,train_lable)\n",
    "train_loader = DataLoader(train_dataset, batch_size=64, shuffle=True,drop_last=True)\n",
    "\n",
    "test_dataset = MyDataset(test_data,test_lable)\n",
    "test_loader = DataLoader(test_dataset, batch_size=64, shuffle=True,drop_last=True)\n",
    "\n",
    "val_dataset = MyDataset(val_data,val_lable)\n",
    "val_loader = DataLoader(val_dataset, batch_size=64, shuffle=True,drop_last=True)"
   ]
  },
  {
   "cell_type": "code",
   "execution_count": 19,
   "metadata": {},
   "outputs": [
    {
     "name": "stdout",
     "output_type": "stream",
     "text": [
      "torch.Size([64, 13, 3, 64])\n",
      "tensor([8, 5, 6, 8, 9, 2, 5, 0, 4, 3, 9, 0, 7, 2, 4, 7, 9, 6, 3, 1, 9, 2, 9, 0,\n",
      "        3, 1, 5, 0, 7, 9, 9, 5, 4, 9, 1, 1, 1, 1, 5, 5, 1, 6, 3, 3, 8, 5, 5, 1,\n",
      "        1, 1, 1, 7, 8, 9, 9, 7, 0, 7, 7, 8, 3, 9, 1, 2], dtype=torch.int32)\n",
      "torch.Size([64])\n"
     ]
    }
   ],
   "source": [
    "#打印一批数据信息看看\n",
    "for data in train_loader:\n",
    "    audio, text = data\n",
    "    text = text.view(-1)\n",
    "    print(audio.shape)\n",
    "    # text = text.unsqueeze(1)\n",
    "    print(text)\n",
    "    print(text.shape)\n",
    "    break\n",
    "\n",
    "\n",
    "\n"
   ]
  },
  {
   "cell_type": "code",
   "execution_count": 20,
   "metadata": {},
   "outputs": [],
   "source": [
    "#组装CNN网络\n",
    "class Mynet(nn.Module):\n",
    "    def __init__(self):\n",
    "        super(Mynet,self).__init__()\n",
    "\n",
    "        self.module1 = Sequential(\n",
    "                Conv2d(in_channels=13, out_channels=16, kernel_size=(3,3), stride=1, padding=1),\n",
    "                Conv2d(in_channels=16, out_channels=16, kernel_size=(3,2), stride=(1,2), padding=(1,0)),\n",
    "                Conv2d(in_channels=16, out_channels=32, kernel_size=3, stride=1, padding=1),\n",
    "                Conv2d(in_channels=32, out_channels=32, kernel_size=(3,2), stride=(1,2), padding=(1,0)),\n",
    "                Conv2d(in_channels=32, out_channels=64, kernel_size=3, stride=1, padding=1),\n",
    "                Conv2d(in_channels=64, out_channels=64, kernel_size=(3,2), stride=2, padding=0),\n",
    "                Flatten(),\n",
    "                Linear(in_features=512, out_features=128),\n",
    "                Linear(in_features=128, out_features=10)\n",
    "        )\n",
    "\n",
    "    def forward(self,x):\n",
    "        x = self.module1(x)\n",
    "        return x\n",
    "\n"
   ]
  },
  {
   "cell_type": "code",
   "execution_count": 21,
   "metadata": {},
   "outputs": [
    {
     "name": "stdout",
     "output_type": "stream",
     "text": [
      "Mynet(\n",
      "  (module1): Sequential(\n",
      "    (0): Conv2d(13, 16, kernel_size=(3, 3), stride=(1, 1), padding=(1, 1))\n",
      "    (1): Conv2d(16, 16, kernel_size=(3, 2), stride=(1, 2), padding=(1, 0))\n",
      "    (2): Conv2d(16, 32, kernel_size=(3, 3), stride=(1, 1), padding=(1, 1))\n",
      "    (3): Conv2d(32, 32, kernel_size=(3, 2), stride=(1, 2), padding=(1, 0))\n",
      "    (4): Conv2d(32, 64, kernel_size=(3, 3), stride=(1, 1), padding=(1, 1))\n",
      "    (5): Conv2d(64, 64, kernel_size=(3, 2), stride=(2, 2))\n",
      "    (6): Flatten(start_dim=1, end_dim=-1)\n",
      "    (7): Linear(in_features=512, out_features=128, bias=True)\n",
      "    (8): Linear(in_features=128, out_features=10, bias=True)\n",
      "  )\n",
      ")\n"
     ]
    }
   ],
   "source": [
    "mynet = Mynet()\n",
    "print(mynet)"
   ]
  },
  {
   "cell_type": "code",
   "execution_count": 28,
   "metadata": {},
   "outputs": [
    {
     "name": "stdout",
     "output_type": "stream",
     "text": [
      "torch.Size([64, 10])\n"
     ]
    }
   ],
   "source": [
    "input = torch.ones((64,13,3,64))\n",
    "output = mynet(input)\n",
    "print(output.shape)"
   ]
  },
  {
   "cell_type": "code",
   "execution_count": 23,
   "metadata": {},
   "outputs": [],
   "source": [
    "#模型训练\n",
    "epochs = 20\n",
    "\n",
    "model = Mynet()\n",
    "\n",
    "#记录训练次数\n",
    "total_train_step = 0\n",
    "total_test_step = 0\n",
    "#学习速率\n",
    "lr_rate = 1e-2\n",
    "\n",
    "# 定义损失函数和优化器 \n",
    "loss_fn = nn.CrossEntropyLoss()\n",
    "optimizer = optim.Adam(model.parameters(), lr=lr_rate)"
   ]
  },
  {
   "cell_type": "code",
   "execution_count": 26,
   "metadata": {},
   "outputs": [
    {
     "name": "stdout",
     "output_type": "stream",
     "text": [
      "imgs.shape:   torch.Size([64, 13, 3, 64])\n",
      "targets: tensor([[5],\n",
      "        [5],\n",
      "        [9],\n",
      "        [5],\n",
      "        [8],\n",
      "        [7],\n",
      "        [3],\n",
      "        [2],\n",
      "        [2],\n",
      "        [3],\n",
      "        [0],\n",
      "        [6],\n",
      "        [2],\n",
      "        [3],\n",
      "        [2],\n",
      "        [9],\n",
      "        [1],\n",
      "        [6],\n",
      "        [3],\n",
      "        [9],\n",
      "        [6],\n",
      "        [7],\n",
      "        [8],\n",
      "        [9],\n",
      "        [2],\n",
      "        [0],\n",
      "        [6],\n",
      "        [2],\n",
      "        [3],\n",
      "        [4],\n",
      "        [3],\n",
      "        [0],\n",
      "        [6],\n",
      "        [4],\n",
      "        [6],\n",
      "        [3],\n",
      "        [2],\n",
      "        [9],\n",
      "        [3],\n",
      "        [4],\n",
      "        [7],\n",
      "        [2],\n",
      "        [9],\n",
      "        [0],\n",
      "        [4],\n",
      "        [0],\n",
      "        [4],\n",
      "        [0],\n",
      "        [9],\n",
      "        [0],\n",
      "        [6],\n",
      "        [7],\n",
      "        [2],\n",
      "        [0],\n",
      "        [9],\n",
      "        [2],\n",
      "        [0],\n",
      "        [6],\n",
      "        [8],\n",
      "        [2],\n",
      "        [2],\n",
      "        [9],\n",
      "        [1],\n",
      "        [9]], dtype=torch.int32)\n",
      "torch.Size([64, 1])\n"
     ]
    }
   ],
   "source": [
    "for data in train_loader:\n",
    "    data, lable = data\n",
    "    \n",
    "    print('imgs.shape:  ',data.shape)\n",
    "    print('targets:',lable)\n",
    "    print(lable.shape)\n",
    "    break"
   ]
  },
  {
   "cell_type": "code",
   "execution_count": 24,
   "metadata": {},
   "outputs": [
    {
     "name": "stdout",
     "output_type": "stream",
     "text": [
      "------------第1轮训练开始----------\n"
     ]
    },
    {
     "ename": "RuntimeError",
     "evalue": "only batches of spatial targets supported (3D tensors) but got targets of dimension: 1",
     "output_type": "error",
     "traceback": [
      "\u001b[1;31m---------------------------------------------------------------------------\u001b[0m",
      "\u001b[1;31mRuntimeError\u001b[0m                              Traceback (most recent call last)",
      "Cell \u001b[1;32mIn[24], line 16\u001b[0m\n\u001b[0;32m     11\u001b[0m text \u001b[38;5;241m=\u001b[39m text\u001b[38;5;241m.\u001b[39mfloat()\n\u001b[0;32m     14\u001b[0m output \u001b[38;5;241m=\u001b[39m model(audio)\n\u001b[1;32m---> 16\u001b[0m loss \u001b[38;5;241m=\u001b[39m \u001b[43mloss_fn\u001b[49m\u001b[43m(\u001b[49m\u001b[43maudio\u001b[49m\u001b[43m,\u001b[49m\u001b[43mtext\u001b[49m\u001b[43m)\u001b[49m\n\u001b[0;32m     18\u001b[0m \u001b[38;5;66;03m#反向传播 调优\u001b[39;00m\n\u001b[0;32m     19\u001b[0m optimizer\u001b[38;5;241m.\u001b[39mzero_grad()\n",
      "File \u001b[1;32mc:\\Users\\Wind\\anaconda3\\envs\\yolov5\\lib\\site-packages\\torch\\nn\\modules\\module.py:1532\u001b[0m, in \u001b[0;36mModule._wrapped_call_impl\u001b[1;34m(self, *args, **kwargs)\u001b[0m\n\u001b[0;32m   1530\u001b[0m     \u001b[38;5;28;01mreturn\u001b[39;00m \u001b[38;5;28mself\u001b[39m\u001b[38;5;241m.\u001b[39m_compiled_call_impl(\u001b[38;5;241m*\u001b[39margs, \u001b[38;5;241m*\u001b[39m\u001b[38;5;241m*\u001b[39mkwargs)  \u001b[38;5;66;03m# type: ignore[misc]\u001b[39;00m\n\u001b[0;32m   1531\u001b[0m \u001b[38;5;28;01melse\u001b[39;00m:\n\u001b[1;32m-> 1532\u001b[0m     \u001b[38;5;28;01mreturn\u001b[39;00m \u001b[38;5;28;43mself\u001b[39;49m\u001b[38;5;241;43m.\u001b[39;49m\u001b[43m_call_impl\u001b[49m\u001b[43m(\u001b[49m\u001b[38;5;241;43m*\u001b[39;49m\u001b[43margs\u001b[49m\u001b[43m,\u001b[49m\u001b[43m \u001b[49m\u001b[38;5;241;43m*\u001b[39;49m\u001b[38;5;241;43m*\u001b[39;49m\u001b[43mkwargs\u001b[49m\u001b[43m)\u001b[49m\n",
      "File \u001b[1;32mc:\\Users\\Wind\\anaconda3\\envs\\yolov5\\lib\\site-packages\\torch\\nn\\modules\\module.py:1541\u001b[0m, in \u001b[0;36mModule._call_impl\u001b[1;34m(self, *args, **kwargs)\u001b[0m\n\u001b[0;32m   1536\u001b[0m \u001b[38;5;66;03m# If we don't have any hooks, we want to skip the rest of the logic in\u001b[39;00m\n\u001b[0;32m   1537\u001b[0m \u001b[38;5;66;03m# this function, and just call forward.\u001b[39;00m\n\u001b[0;32m   1538\u001b[0m \u001b[38;5;28;01mif\u001b[39;00m \u001b[38;5;129;01mnot\u001b[39;00m (\u001b[38;5;28mself\u001b[39m\u001b[38;5;241m.\u001b[39m_backward_hooks \u001b[38;5;129;01mor\u001b[39;00m \u001b[38;5;28mself\u001b[39m\u001b[38;5;241m.\u001b[39m_backward_pre_hooks \u001b[38;5;129;01mor\u001b[39;00m \u001b[38;5;28mself\u001b[39m\u001b[38;5;241m.\u001b[39m_forward_hooks \u001b[38;5;129;01mor\u001b[39;00m \u001b[38;5;28mself\u001b[39m\u001b[38;5;241m.\u001b[39m_forward_pre_hooks\n\u001b[0;32m   1539\u001b[0m         \u001b[38;5;129;01mor\u001b[39;00m _global_backward_pre_hooks \u001b[38;5;129;01mor\u001b[39;00m _global_backward_hooks\n\u001b[0;32m   1540\u001b[0m         \u001b[38;5;129;01mor\u001b[39;00m _global_forward_hooks \u001b[38;5;129;01mor\u001b[39;00m _global_forward_pre_hooks):\n\u001b[1;32m-> 1541\u001b[0m     \u001b[38;5;28;01mreturn\u001b[39;00m \u001b[43mforward_call\u001b[49m\u001b[43m(\u001b[49m\u001b[38;5;241;43m*\u001b[39;49m\u001b[43margs\u001b[49m\u001b[43m,\u001b[49m\u001b[43m \u001b[49m\u001b[38;5;241;43m*\u001b[39;49m\u001b[38;5;241;43m*\u001b[39;49m\u001b[43mkwargs\u001b[49m\u001b[43m)\u001b[49m\n\u001b[0;32m   1543\u001b[0m \u001b[38;5;28;01mtry\u001b[39;00m:\n\u001b[0;32m   1544\u001b[0m     result \u001b[38;5;241m=\u001b[39m \u001b[38;5;28;01mNone\u001b[39;00m\n",
      "File \u001b[1;32mc:\\Users\\Wind\\anaconda3\\envs\\yolov5\\lib\\site-packages\\torch\\nn\\modules\\loss.py:1185\u001b[0m, in \u001b[0;36mCrossEntropyLoss.forward\u001b[1;34m(self, input, target)\u001b[0m\n\u001b[0;32m   1184\u001b[0m \u001b[38;5;28;01mdef\u001b[39;00m \u001b[38;5;21mforward\u001b[39m(\u001b[38;5;28mself\u001b[39m, \u001b[38;5;28minput\u001b[39m: Tensor, target: Tensor) \u001b[38;5;241m-\u001b[39m\u001b[38;5;241m>\u001b[39m Tensor:\n\u001b[1;32m-> 1185\u001b[0m     \u001b[38;5;28;01mreturn\u001b[39;00m \u001b[43mF\u001b[49m\u001b[38;5;241;43m.\u001b[39;49m\u001b[43mcross_entropy\u001b[49m\u001b[43m(\u001b[49m\u001b[38;5;28;43minput\u001b[39;49m\u001b[43m,\u001b[49m\u001b[43m \u001b[49m\u001b[43mtarget\u001b[49m\u001b[43m,\u001b[49m\u001b[43m \u001b[49m\u001b[43mweight\u001b[49m\u001b[38;5;241;43m=\u001b[39;49m\u001b[38;5;28;43mself\u001b[39;49m\u001b[38;5;241;43m.\u001b[39;49m\u001b[43mweight\u001b[49m\u001b[43m,\u001b[49m\n\u001b[0;32m   1186\u001b[0m \u001b[43m                           \u001b[49m\u001b[43mignore_index\u001b[49m\u001b[38;5;241;43m=\u001b[39;49m\u001b[38;5;28;43mself\u001b[39;49m\u001b[38;5;241;43m.\u001b[39;49m\u001b[43mignore_index\u001b[49m\u001b[43m,\u001b[49m\u001b[43m \u001b[49m\u001b[43mreduction\u001b[49m\u001b[38;5;241;43m=\u001b[39;49m\u001b[38;5;28;43mself\u001b[39;49m\u001b[38;5;241;43m.\u001b[39;49m\u001b[43mreduction\u001b[49m\u001b[43m,\u001b[49m\n\u001b[0;32m   1187\u001b[0m \u001b[43m                           \u001b[49m\u001b[43mlabel_smoothing\u001b[49m\u001b[38;5;241;43m=\u001b[39;49m\u001b[38;5;28;43mself\u001b[39;49m\u001b[38;5;241;43m.\u001b[39;49m\u001b[43mlabel_smoothing\u001b[49m\u001b[43m)\u001b[49m\n",
      "File \u001b[1;32mc:\\Users\\Wind\\anaconda3\\envs\\yolov5\\lib\\site-packages\\torch\\nn\\functional.py:3086\u001b[0m, in \u001b[0;36mcross_entropy\u001b[1;34m(input, target, weight, size_average, ignore_index, reduce, reduction, label_smoothing)\u001b[0m\n\u001b[0;32m   3084\u001b[0m \u001b[38;5;28;01mif\u001b[39;00m size_average \u001b[38;5;129;01mis\u001b[39;00m \u001b[38;5;129;01mnot\u001b[39;00m \u001b[38;5;28;01mNone\u001b[39;00m \u001b[38;5;129;01mor\u001b[39;00m reduce \u001b[38;5;129;01mis\u001b[39;00m \u001b[38;5;129;01mnot\u001b[39;00m \u001b[38;5;28;01mNone\u001b[39;00m:\n\u001b[0;32m   3085\u001b[0m     reduction \u001b[38;5;241m=\u001b[39m _Reduction\u001b[38;5;241m.\u001b[39mlegacy_get_string(size_average, reduce)\n\u001b[1;32m-> 3086\u001b[0m \u001b[38;5;28;01mreturn\u001b[39;00m \u001b[43mtorch\u001b[49m\u001b[38;5;241;43m.\u001b[39;49m\u001b[43m_C\u001b[49m\u001b[38;5;241;43m.\u001b[39;49m\u001b[43m_nn\u001b[49m\u001b[38;5;241;43m.\u001b[39;49m\u001b[43mcross_entropy_loss\u001b[49m\u001b[43m(\u001b[49m\u001b[38;5;28;43minput\u001b[39;49m\u001b[43m,\u001b[49m\u001b[43m \u001b[49m\u001b[43mtarget\u001b[49m\u001b[43m,\u001b[49m\u001b[43m \u001b[49m\u001b[43mweight\u001b[49m\u001b[43m,\u001b[49m\u001b[43m \u001b[49m\u001b[43m_Reduction\u001b[49m\u001b[38;5;241;43m.\u001b[39;49m\u001b[43mget_enum\u001b[49m\u001b[43m(\u001b[49m\u001b[43mreduction\u001b[49m\u001b[43m)\u001b[49m\u001b[43m,\u001b[49m\u001b[43m \u001b[49m\u001b[43mignore_index\u001b[49m\u001b[43m,\u001b[49m\u001b[43m \u001b[49m\u001b[43mlabel_smoothing\u001b[49m\u001b[43m)\u001b[49m\n",
      "\u001b[1;31mRuntimeError\u001b[0m: only batches of spatial targets supported (3D tensors) but got targets of dimension: 1"
     ]
    }
   ],
   "source": [
    "# 训练模型\n",
    "for i in range(epochs):\n",
    "    print(\"------------第{}轮训练开始----------\".format(i+1))\n",
    "    \n",
    "    #训练步骤开始\n",
    "    model.train()\n",
    "    for data in train_loader:\n",
    "        audio, text = data\n",
    "        audio = audio.float()\n",
    "        text = text.view(-1)\n",
    "        text = text.float()\n",
    "        \n",
    "\n",
    "        output = model(audio)\n",
    "        \n",
    "        loss = loss_fn(audio,text)\n",
    "\n",
    "        #反向传播 调优\n",
    "        optimizer.zero_grad()\n",
    "        loss.backward()\n",
    "        optimizer.step()\n",
    "\n",
    "        total_train_step += 1\n",
    "        print(\"训练次数:{},Loss:{}\".format(total_train_step,loss.item()))\n",
    "\n",
    "    #测试步骤开始\n",
    "    model.eval()\n",
    "    total_test_loss = 0\n",
    "    total_accuracy = 0\n",
    "    with torch.no_grad():\n",
    "        for data in test_loader:\n",
    "            audio, text = data\n",
    "            audio = audio.float()\n",
    "            text = text.float()\n",
    "            text = text.argmax(dim=1)\n",
    "        \n",
    "            output = model(audio)\n",
    "            loss = loss_fn(output,text)\n",
    "            total_test_loss += loss.item()\n",
    "\n",
    "            accuray = (output.argmax(1) == text).sum()\n",
    "            total_accuracy += accuray\n",
    "\n",
    "    print(\"测试集上的Loss:{}\".format(total_test_loss))\n",
    "    print(\"测试集上的Accuracy:{}\".format(total_accuracy/total_test_step))\n",
    "    total_test_step += 1"
   ]
  },
  {
   "cell_type": "code",
   "execution_count": null,
   "metadata": {},
   "outputs": [],
   "source": []
  }
 ],
 "metadata": {
  "kernelspec": {
   "display_name": "yolov8",
   "language": "python",
   "name": "python3"
  },
  "language_info": {
   "codemirror_mode": {
    "name": "ipython",
    "version": 3
   },
   "file_extension": ".py",
   "mimetype": "text/x-python",
   "name": "python",
   "nbconvert_exporter": "python",
   "pygments_lexer": "ipython3",
   "version": "3.8.19"
  }
 },
 "nbformat": 4,
 "nbformat_minor": 2
}
